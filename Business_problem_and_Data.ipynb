{
 "cells": [
  {
   "cell_type": "markdown",
   "metadata": {},
   "source": [
    "# BUSINESS PROBLEM"
   ]
  },
  {
   "cell_type": "markdown",
   "metadata": {},
   "source": [
    "**Nowadays people mostly resort to going to malls or big retail chains to purchase their daily stuff. The advantage of going to big retail chains is that one gets all their necessary items just at one place. From groceries to clothes, from sports equipment’s to stationaries …You name it and you get it!!!  Also big hotels, cafe, pubs are one of the most important customers of the retail chains because they purchase their goods in bulk. So, I am aiming to develop a recommender system for these retail outlet chains which would give them a good strategic location for them to open their outlets and make a good profit.**\n",
    "     \n",
    "  **Strategic Location is one of the most important factor for any business to succeed. If the location is bad, no matter how much we invest the business wouldn’t be making any profits. Recently one of the biggest retail chains Walmart decided to close 269 stores because it was resulting in a loss. Such a mass closure doesn’t affect only the retail chain shareholders but also affect the employment and lives of the people working in such stores. It was estimated that 16,000 people were affected due to the mass closure. This is a very good example which strengthens the claim that ‘Location is one of the most important aspect for any business to succeed’.** \n",
    "        \n",
    "  **Hence this recommender system will help these retail chains to analyze whether opening a store in that location would be a good decision or not. Foursquare API would be used to gather essential details of how cafes may, hotels. shops are their giving them some knowledge about their potential customers.**\n"
   ]
  },
  {
   "cell_type": "markdown",
   "metadata": {},
   "source": [
    "\n",
    "**--------------------------------------------------------------------------------------------------------------------------------------------------------------------------------------------------------------------**"
   ]
  },
  {
   "cell_type": "markdown",
   "metadata": {},
   "source": [
    "# DATA"
   ]
  },
  {
   "cell_type": "markdown",
   "metadata": {},
   "source": [
    "**The data which would be used to solve the problem would be obtained from a Wikipedia page. The original data namely consists of**\n",
    "- Postal code \n",
    "- Borough  \n",
    "- Neighbourhood.  \n",
    "**The data table need to be prepared by importing raw data from Wikipedia and refining it according to our needs. The data should mainly include neighborhood, longitude and latitude information.   \n",
    "We would be only using the Toronto borough for our analysis. Geopy module would be used to get the location longitude and latitude and folium module would be used to view the Toronto map. Finally Foursquare API would be used to gather location information about the top venues in each neighborhoods given the longitude and latitude values.**"
   ]
  },
  {
   "cell_type": "markdown",
   "metadata": {},
   "source": [
    "**-------------------------------------------------------------------------------------------------------------------------------------------------------------------------------------------**"
   ]
  }
 ],
 "metadata": {
  "kernelspec": {
   "display_name": "Python 3",
   "language": "python",
   "name": "python3"
  },
  "language_info": {
   "codemirror_mode": {
    "name": "ipython",
    "version": 3
   },
   "file_extension": ".py",
   "mimetype": "text/x-python",
   "name": "python",
   "nbconvert_exporter": "python",
   "pygments_lexer": "ipython3",
   "version": "3.6.5"
  }
 },
 "nbformat": 4,
 "nbformat_minor": 2
}
